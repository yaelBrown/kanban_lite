{
 "cells": [
  {
   "cell_type": "code",
   "execution_count": 9,
   "id": "c3e17ff6-0e0e-4a32-baa9-9150d77ac1fa",
   "metadata": {},
   "outputs": [
    {
     "data": {
      "text/plain": [
       "'\\nKanban lite Proof of Concept notebook\\n6.23.25\\n'"
      ]
     },
     "execution_count": 9,
     "metadata": {},
     "output_type": "execute_result"
    }
   ],
   "source": [
    "\"\"\"\n",
    "Kanban lite Proof of Concept notebook\n",
    "6.23.25\n",
    "\"\"\""
   ]
  },
  {
   "cell_type": "code",
   "execution_count": 10,
   "id": "2adbde63-71d4-4547-8624-adb127de11c8",
   "metadata": {},
   "outputs": [],
   "source": [
    "class Boards: \n",
    "    board_id = \"\" \n",
    "    title = \"\"\n",
    "    creator = \"\"\n",
    "    datetime = \"\"\n",
    "    column_ids = []\n",
    "    visibility = \"\""
   ]
  },
  {
   "cell_type": "code",
   "execution_count": 11,
   "id": "36eb2f76-dd80-4ad7-89a7-873b201212df",
   "metadata": {},
   "outputs": [],
   "source": [
    "class Columns:\n",
    "    column_id = \"\"\n",
    "    column_bg_color = \"\"\n",
    "    column_txt_color = \"\"\n",
    "    title = \"\" \n",
    "    description = \"\"\n",
    "    task_ids = []\n",
    "    datetime = \"\"\n",
    "    datetime_updated = \"\""
   ]
  },
  {
   "cell_type": "code",
   "execution_count": 12,
   "id": "d74dd262-48f0-4b22-94b3-64d1196609dd",
   "metadata": {},
   "outputs": [],
   "source": [
    "class Tasks:\n",
    "    task_id = \"\"\n",
    "    description = \"\"\n",
    "    author = \"\"\n",
    "    datetime = \"\"\n",
    "    datetime_updated = \"\"\n",
    "    comment_ids = []\n",
    "    priority = 0 # 0-5   \n",
    "    assignee_id = \"\"\n",
    "    reporter_id = \"\" \n",
    "    watcher_ids = []"
   ]
  },
  {
   "cell_type": "code",
   "execution_count": 13,
   "id": "f8791a57-3000-4498-a190-bfff4564ef38",
   "metadata": {},
   "outputs": [],
   "source": [
    "class Comments:\n",
    "    comment_id = \"\"\n",
    "    datetime = \"\"\n",
    "    datetime_updated = \"\" \n",
    "    author = \"\"\n",
    "    task_id = \"\"\n",
    "    is_reply = False\n",
    "    reply_commend_id = \"\""
   ]
  },
  {
   "cell_type": "code",
   "execution_count": 14,
   "id": "56d1fff2-2103-484d-8c7a-931c350d1410",
   "metadata": {},
   "outputs": [],
   "source": [
    "class Users: \n",
    "    user_id = \"\"\n",
    "    username = \"\"\n",
    "    email = \"\"\n",
    "    password = \"\" \n",
    "    board_ids = []\n",
    "    date_created = \"\"\n",
    "    date_last_login = \"\""
   ]
  }
 ],
 "metadata": {
  "kernelspec": {
   "display_name": "Python 3 (ipykernel)",
   "language": "python",
   "name": "python3"
  },
  "language_info": {
   "codemirror_mode": {
    "name": "ipython",
    "version": 3
   },
   "file_extension": ".py",
   "mimetype": "text/x-python",
   "name": "python",
   "nbconvert_exporter": "python",
   "pygments_lexer": "ipython3",
   "version": "3.12.7"
  }
 },
 "nbformat": 4,
 "nbformat_minor": 5
}
